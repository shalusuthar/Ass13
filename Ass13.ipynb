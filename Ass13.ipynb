{
 "cells": [
  {
   "cell_type": "markdown",
   "id": "af655787-4982-40ad-bea7-e5f40e59c1fa",
   "metadata": {},
   "source": [
    "Q1. What is MongoDB? Explain non-relational databases in short. In which scenarios it is preferred to use\n",
    "MongoDB over SQL databases?\n",
    "\n",
    "Ans. MongoDB is built on a scale-out architecture that has become popular with developers of all kinds for developing scalable applications with evolving data schemas. As a document database, MongoDB makes it easy for developers to store structured or unstructured data. It uses a JSON-like format to store documents.\n",
    "\n",
    "A non-relational database is a database that does not use the tabular schema of rows and columns found in most traditional database systems. Instead, non-relational databases use a storage model that is optimized for the specific requirements of the type of data being stored.\n",
    "\n",
    "The pace of development with NoSQL databases can be much faster than with a SQL database. Because NoSQL databases often allow developers to be in control of the structure of the data, they are a good fit with modern Agile development practices based on sprints, quick iterations, and frequent code pushes.\n"
   ]
  },
  {
   "cell_type": "code",
   "execution_count": null,
   "id": "96210c70-b509-4ad7-8d5a-18cbb228ec0f",
   "metadata": {},
   "outputs": [],
   "source": []
  },
  {
   "cell_type": "markdown",
   "id": "ad8a3595-e658-4065-a559-fd0762e56363",
   "metadata": {},
   "source": [
    "Q2. State and Explain the features of MongoDB.\n",
    "\n",
    "Ans. It contains heterogeneous data. It provides high performance, availability, scalability. It supports Geospatial efficiently. It is a document oriented database and the data is stored in BSON documents."
   ]
  },
  {
   "cell_type": "code",
   "execution_count": null,
   "id": "78957bd5-0f17-4957-88b5-8eebd05cda86",
   "metadata": {},
   "outputs": [],
   "source": []
  },
  {
   "cell_type": "markdown",
   "id": "cab8f535-7f67-4ebe-86e5-3f4347c5acfe",
   "metadata": {},
   "source": [
    "Q3. Write a code to connect MongoDB to Python. Also, create a database and a collection in MongoDB."
   ]
  },
  {
   "cell_type": "code",
   "execution_count": null,
   "id": "82c8760a-4999-4947-9560-b559e04c3d58",
   "metadata": {},
   "outputs": [],
   "source": [
    "# importing module\n",
    "from pymongo import MongoClient\n",
    "  \n",
    "# creation of MongoClient\n",
    "client=MongoClient()\n",
    "  \n",
    "# Connect with the portnumber and host\n",
    "client = MongoClient(“mongodb://localhost:27017/”)\n",
    "  \n",
    "# Access database\n",
    "mydatabase = client[‘name_of_the_database’]\n",
    "  \n",
    "# Access collection of the database\n",
    "mycollection=mydatabase[‘myTable’]\n",
    "  \n",
    "# dictionary to be added in the database\n",
    "rec={\n",
    "title: 'MongoDB and Python', \n",
    "description: 'MongoDB is no SQL database', \n",
    "tags: ['mongodb', 'database', 'NoSQL'], \n",
    "viewers: 104 \n",
    "}\n",
    "  \n",
    "# inserting the data in the database\n",
    "rec = mydatabase.myTable.insert(record)"
   ]
  },
  {
   "cell_type": "markdown",
   "id": "a1dab542-8b23-4147-b694-744b2fd194f5",
   "metadata": {},
   "source": [
    "Q4. Using the database and the collection created in question number 3, write a code to insert one record,\n",
    "and insert many records. Use the find() and find_one() methods to print the inserted record."
   ]
  },
  {
   "cell_type": "code",
   "execution_count": null,
   "id": "9b292c50-947d-48d7-be9a-e79da6474770",
   "metadata": {},
   "outputs": [],
   "source": [
    "from pymongo import MongoClient\n",
    "  \n",
    "try:\n",
    "    conn = MongoClient()\n",
    "    print(\"Connected successfully!!!\")\n",
    "except:  \n",
    "    print(\"Could not connect to MongoDB\")\n",
    "  \n",
    "# database name: mydatabase\n",
    "db = conn.mydatabase\n",
    "  \n",
    "# Created or Switched to collection names: myTable\n",
    "collection = db.myTable\n",
    "  \n",
    "# To find() all the entries inside collection name 'myTable'\n",
    "cursor = collection.find()\n",
    "for record in cursor:\n",
    "    print(record)"
   ]
  },
  {
   "cell_type": "markdown",
   "id": "18813bfd-67a0-4100-a219-cee34e633d25",
   "metadata": {},
   "source": [
    "Q5. Explain how you can use the find() method to query the MongoDB database. Write a simple code to\n",
    "demonstrate this.\n",
    "\n",
    "Ans. MongoDB's find() method selects documents from a collection or view and returns a cursor to those documents. There are two parameters in this formula - query and projection. Query is an optional parameter that specifies the criteria for selection.\n"
   ]
  },
  {
   "cell_type": "code",
   "execution_count": null,
   "id": "f25cd3ef-4e9a-4167-be2a-4a1e220cab3b",
   "metadata": {},
   "outputs": [],
   "source": []
  },
  {
   "cell_type": "markdown",
   "id": "8448f922-480d-45ef-9242-391ff01fc621",
   "metadata": {},
   "source": [
    "Q6. Explain the sort() method. Give an example to demonstrate sorting in MongoDB.\n",
    "\n",
    "Ans. The sort() method consists of two basic building blocks. These building blocks are fields to be sorted and the sort order. The sorting order in MongoDB is defined by either a one (1) or a minus (-1)\n"
   ]
  },
  {
   "cell_type": "code",
   "execution_count": 1,
   "id": "08e58bed-162f-45c3-981f-2ccc785feef8",
   "metadata": {},
   "outputs": [
    {
     "ename": "NameError",
     "evalue": "name 'db' is not defined",
     "output_type": "error",
     "traceback": [
      "\u001b[0;31m---------------------------------------------------------------------------\u001b[0m",
      "\u001b[0;31mNameError\u001b[0m                                 Traceback (most recent call last)",
      "Cell \u001b[0;32mIn[1], line 1\u001b[0m\n\u001b[0;32m----> 1\u001b[0m \u001b[43mdb\u001b[49m\u001b[38;5;241m.\u001b[39mstaff\u001b[38;5;241m.\u001b[39mfind()\u001b[38;5;241m.\u001b[39msort({staff_id:\u001b[38;5;241m1\u001b[39m})\n\u001b[1;32m      2\u001b[0m db\u001b[38;5;241m.\u001b[39mstaff\u001b[38;5;241m.\u001b[39mfind()\u001b[38;5;241m.\u001b[39msort({staff_id:\u001b[38;5;241m-\u001b[39m\u001b[38;5;241m1\u001b[39m})\n",
      "\u001b[0;31mNameError\u001b[0m: name 'db' is not defined"
     ]
    }
   ],
   "source": [
    "db.staff.find().sort({staff_id:1})\n",
    "db.staff.find().sort({staff_id:-1})"
   ]
  },
  {
   "cell_type": "markdown",
   "id": "4c26b055-9353-40c6-b15c-daa5b0afbb68",
   "metadata": {},
   "source": [
    "Q7. Explain why delete_one(), delete_many(), and drop() is used.\n",
    "\n",
    "Ans. delete_one -> In MongoDB, a single document can be deleted by the method delete_one(). The first parameter of the method would be a query object which defines the document to be deleted. If there are multiple documents matching the filter query, only the first appeared document would be deleted.\n",
    "\n",
    "delete_many() -> Delete_many() is used when one needs to delete more than one document. A query object containing which document to be deleted is created and is passed as the first parameter to the delete_many(). Parameters: 'filter' : A query that matches the document to delete.\n",
    "\n",
    "drop() -> The drop() method removes the specified row or column. By specifying the column axis ( axis='columns' ), the drop() method removes the specified column. By specifying the row axis ( axis='index' ), the drop() method removes the specified row.\n",
    "\n"
   ]
  },
  {
   "cell_type": "code",
   "execution_count": null,
   "id": "9effcee3-009b-469c-958f-a1631136576d",
   "metadata": {},
   "outputs": [],
   "source": []
  },
  {
   "cell_type": "code",
   "execution_count": null,
   "id": "55aae6f1-26ce-48d2-a369-4384cff42c0a",
   "metadata": {},
   "outputs": [],
   "source": []
  }
 ],
 "metadata": {
  "kernelspec": {
   "display_name": "Python 3 (ipykernel)",
   "language": "python",
   "name": "python3"
  },
  "language_info": {
   "codemirror_mode": {
    "name": "ipython",
    "version": 3
   },
   "file_extension": ".py",
   "mimetype": "text/x-python",
   "name": "python",
   "nbconvert_exporter": "python",
   "pygments_lexer": "ipython3",
   "version": "3.10.8"
  }
 },
 "nbformat": 4,
 "nbformat_minor": 5
}
